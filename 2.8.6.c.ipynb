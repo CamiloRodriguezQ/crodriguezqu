{
  "nbformat": 4,
  "nbformat_minor": 0,
  "metadata": {
    "kernelspec": {
      "display_name": "Python 3",
      "language": "python",
      "name": "python3"
    },
    "language_info": {
      "codemirror_mode": {
        "name": "ipython",
        "version": 3
      },
      "file_extension": ".py",
      "mimetype": "text/x-python",
      "name": "python",
      "nbconvert_exporter": "python",
      "pygments_lexer": "ipython3",
      "version": "3.7.4"
    },
    "colab": {
      "name": "2.8.6.c.ipynb",
      "provenance": []
    }
  },
  "cells": [
    {
      "cell_type": "code",
      "metadata": {
        "id": "2vLsizDdFMlW",
        "colab_type": "code",
        "colab": {
          "base_uri": "https://localhost:8080/",
          "height": 51
        },
        "outputId": "d4f7f605-47f5-422b-8e1e-e25deb7a6927"
      },
      "source": [
        "import numpy as np\n",
        "import matplotlib.pyplot as plt\n",
        "\n",
        "def sistema_1(t, x):\n",
        "    x_dot = x + np.exp(-x)\n",
        "    return x_dot\n",
        "\n",
        "def euler( h, tini, tfin, x0 ):\n",
        "    ti = tini  \n",
        "    xi = x0\n",
        "  \n",
        "    x = list()\n",
        "    t = list()\n",
        "  \n",
        "    while ( ti <= tfin ):\n",
        "    \n",
        "      x.append (xi)\n",
        "      t.append (ti)\n",
        "  \n",
        "      xi = xi + h*sistema_1(ti,xi)\n",
        "      ti = ti + h\n",
        "    return t, x   \n",
        "\n",
        "tini = 0\n",
        "tfin = 1\n",
        "x0 = 0\n",
        "x_1=list()\n",
        "\n",
        "plt.figure()\n",
        "for n in [0,1,2,3,4,5]:\n",
        "    h = 10**-n\n",
        "    t1,x1 = euler( h, tini, tfin, x0 )\n",
        "    x_1.append(x1[-1])\n",
        "\n",
        "print('Para h=10^-4: x(1)=',x_1[4])"
      ],
      "execution_count": 7,
      "outputs": [
        {
          "output_type": "stream",
          "text": [
            "Para h=10^-4: x(1)= 1.1536107487141711\n"
          ],
          "name": "stdout"
        },
        {
          "output_type": "display_data",
          "data": {
            "text/plain": [
              "<Figure size 432x288 with 0 Axes>"
            ]
          },
          "metadata": {
            "tags": []
          }
        }
      ]
    },
    {
      "cell_type": "code",
      "metadata": {
        "id": "sCvSOgk9FMlc",
        "colab_type": "code",
        "colab": {}
      },
      "source": [
        ""
      ],
      "execution_count": null,
      "outputs": []
    },
    {
      "cell_type": "code",
      "metadata": {
        "id": "-Nr87f5aFMlh",
        "colab_type": "code",
        "colab": {}
      },
      "source": [
        ""
      ],
      "execution_count": null,
      "outputs": []
    }
  ]
}