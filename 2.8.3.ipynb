{
 "cells": [
  {
   "cell_type": "code",
   "execution_count": 18,
   "metadata": {},
   "outputs": [
    {
     "name": "stdout",
     "output_type": "stream",
     "text": [
      "n= 0 , x(1)= 0\n",
      "n= 1 , x(1)= 0.3486784401\n",
      "n= 2 , x(1)= 0.3697296376497269\n",
      "n= 3 , x(1)= 0.36806348825922297\n",
      "n= 4 , x(1)= 0.36786104643292905\n",
      "Errores (%):  [3.67879441e+01 1.92010011e+00 1.85019648e-01 1.84047088e-02\n",
      " 1.83947385e-03]\n",
      "A menor valor para h, menor error generado.\n",
      "Para un valor de n=4, las 4 primeras cifras ya son iguales al valor real.\n"
     ]
    },
    {
     "data": {
      "image/png": "[encoded data removed]",
      "text/plain": [
       "<Figure size 432x288 with 1 Axes>"
      ]
     },
     "metadata": {
      "needs_background": "light"
     },
     "output_type": "display_data"
    }
   ],
   "source": [
    "import numpy as np\n",
    "import matplotlib.pyplot as plt\n",
    "\n",
    "def f(t, x):\n",
    "    x_dot = -x\n",
    "    return x_dot\n",
    "\n",
    "def euler( h, tini, tfin, x0):\n",
    "    ti = tini  \n",
    "    xi = x0\n",
    "    x = list()\n",
    "    t = list()\n",
    "  \n",
    "    while ( ti <= tfin ):\n",
    "    \n",
    "      x.append (xi)\n",
    "      t.append (ti)\n",
    "  \n",
    "      xi = xi + h*f(ti,xi)\n",
    "      ti = ti + h\n",
    "    return t, x   \n",
    "\n",
    "tini = 0\n",
    "tfin = 1\n",
    "x0 = 1\n",
    "x1=list()\n",
    "h1=list()\n",
    "\n",
    "for n in [0,1,2,3,4]:\n",
    "    h = 10**-n\n",
    "    t,x = euler( h, tini, tfin, x0)\n",
    "    x1.append(x[-1])\n",
    "    h1.append(h)\n",
    "    print('n=',n,', x(1)=',x1[n])\n",
    "\n",
    "E=abs(x1-np.exp(-1))\n",
    "plt.plot(h1,E,'o-')\n",
    "plt.title('h vs E')\n",
    "plt.xlabel('h')\n",
    "plt.ylabel('E')\n",
    "plt.grid()\n",
    "print('Errores (%): ',E*100)\n",
    "print('A menor valor para h, menor error generado.')\n",
    "print('Para un valor de n=4, las 4 primeras cifras ya son iguales al valor real.')"
   ]
  },
  {
   "cell_type": "code",
   "execution_count": null,
   "metadata": {},
   "outputs": [],
   "source": []
  }
 ],
 "metadata": {
  "kernelspec": {
   "display_name": "Python 3",
   "language": "python",
   "name": "python3"
  },
  "language_info": {
   "codemirror_mode": {
    "name": "ipython",
    "version": 3
   },
   "file_extension": ".py",
   "mimetype": "text/x-python",
   "name": "python",
   "nbconvert_exporter": "python",
   "pygments_lexer": "ipython3",
   "version": "3.7.4"
  }
 },
 "nbformat": 4,
 "nbformat_minor": 2
}
