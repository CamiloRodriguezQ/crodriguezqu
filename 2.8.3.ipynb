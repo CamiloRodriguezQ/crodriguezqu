{
 "cells": [
  {
   "cell_type": "code",
   "execution_count": 3,
   "metadata": {},
   "outputs": [
    {
     "data": {
      "text/plain": [
       "[<matplotlib.lines.Line2D at 0x24e31171408>]"
      ]
     },
     "execution_count": 3,
     "metadata": {},
     "output_type": "execute_result"
    },
    {
     "data": {
      "image/png": "[encoded data removed]",
      "text/plain": [
       "<Figure size 432x288 with 1 Axes>"
      ]
     },
     "metadata": {
      "needs_background": "light"
     },
     "output_type": "display_data"
    }
   ],
   "source": [
    "import numpy as np\n",
    "import matplotlib.pyplot as plt\n",
    "\n",
    "def sistema_1(t, x, a):\n",
    "    x_dot = a*x\n",
    "    return x_dot\n",
    "\n",
    "def euler( h, tini, tfin, x0, params ):\n",
    "    ti = tini  \n",
    "    xi = x0\n",
    "  \n",
    "    x = list()\n",
    "    t = list()\n",
    "  \n",
    "    while ( ti < tfin ):\n",
    "    \n",
    "      x.append (xi)\n",
    "      t.append (ti)\n",
    "  \n",
    "      xi = xi + h*sistema_1(ti,xi,params)\n",
    "      ti = ti + h\n",
    "    return t, x   \n",
    "\n",
    "a = -1\n",
    "tini = 0\n",
    "tfin = 10\n",
    "x0 = 1\n",
    "x_1=list()\n",
    "\n",
    "for n in [0,1,2,3,4]:\n",
    "    h = 10**-n\n",
    "    t1,x1 = euler( h, tini, tfin, x0, a )\n",
    "    x_1.append(x1[int(1/h)])\n",
    "\n",
    "E=abs(x_1-np.exp(-1))\n",
    "plt.plot(x_1,E)"
   ]
  },
  {
   "cell_type": "code",
   "execution_count": null,
   "metadata": {},
   "outputs": [],
   "source": []
  },
  {
   "cell_type": "code",
   "execution_count": null,
   "metadata": {},
   "outputs": [],
   "source": []
  }
 ],
 "metadata": {
  "kernelspec": {
   "display_name": "Python 3",
   "language": "python",
   "name": "python3"
  },
  "language_info": {
   "codemirror_mode": {
    "name": "ipython",
    "version": 3
   },
   "file_extension": ".py",
   "mimetype": "text/x-python",
   "name": "python",
   "nbconvert_exporter": "python",
   "pygments_lexer": "ipython3",
   "version": "3.7.4"
  }
 },
 "nbformat": 4,
 "nbformat_minor": 2
}
