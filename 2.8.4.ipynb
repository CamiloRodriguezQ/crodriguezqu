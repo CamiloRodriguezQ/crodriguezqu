{
 "cells": [
  {
   "cell_type": "code",
   "execution_count": 2,
   "metadata": {},
   "outputs": [
    {
     "name": "stdout",
     "output_type": "stream",
     "text": [
      "n= 0 , x(1)= 0.5\n",
      "n= 1 , x(1)= 0.36854098483355185\n",
      "n= 2 , x(1)= 0.367885618716192\n",
      "n= 3 , x(1)= 0.3678795025306909\n",
      "n= 4 , x(1)= 0.36787944178461873\n",
      "Errores (%):  [1.32120559e+01 6.61543662e-02 6.17754475e-04 6.13592486e-06\n",
      " 6.13176399e-08]\n",
      "En comparacion con el metodo de euler, el error es menor para valores bajos de n.\n",
      "Para un valor de n=2, las 4 primeras cifras ya son iguales al valor real.\n"
     ]
    },
    {
     "data": {
      "image/png": "[encoded data removed]",
      "text/plain": [
       "<Figure size 432x288 with 1 Axes>"
      ]
     },
     "metadata": {
      "needs_background": "light"
     },
     "output_type": "display_data"
    }
   ],
   "source": [
    "import numpy as np               \n",
    "import matplotlib.pyplot as plt  \n",
    "\n",
    "def euler_imp(f,x0,t0,tN,N):\n",
    "    h=(tN-t0)/N \n",
    "    t=np.linspace(t0,tN,N+1)\n",
    "    x_eu_imp=np.zeros(N+1)\n",
    "    x_eu_imp[0]=x0\n",
    "    for n in range(N):\n",
    "        x_eu_imp[n+1]=x_eu_imp[n]+h*f((x_eu_imp[n]+h*f(x_eu_imp[n],t[n])/2), (t[n]+h/2))\n",
    "    return t,x_eu_imp\n",
    "\n",
    "def fun(x_n,t_n):\n",
    "    return -x_n\n",
    "\n",
    "t0=0\n",
    "tN=1\n",
    "x0=1\n",
    "x_1=list()\n",
    "dt=list()\n",
    "\n",
    "for n in [0,1,2,3,4]:\n",
    "    h=10**-n\n",
    "    N=int((tN-t0)/h)\n",
    "    t,x=euler_imp(fun,x0,t0,tN,N)\n",
    "    x_1.append(x[-1])\n",
    "    dt.append(h)\n",
    "    print('n=',n,', x(1)=',x_1[n])\n",
    "    \n",
    "E=abs(x_1-np.exp(-1))\n",
    "plt.plot(dt,E,'o-')\n",
    "plt.title('h vs E')\n",
    "plt.xlabel('h')\n",
    "plt.ylabel('E')\n",
    "plt.grid()\n",
    "print('Errores (%): ',E*100)\n",
    "print('En comparacion con el metodo de euler, el error es menor para valores bajos de n.')\n",
    "print('Para un valor de n=2, las 4 primeras cifras ya son iguales al valor real.')"
   ]
  },
  {
   "cell_type": "code",
   "execution_count": null,
   "metadata": {},
   "outputs": [],
   "source": []
  }
 ],
 "metadata": {
  "kernelspec": {
   "display_name": "Python 3",
   "language": "python",
   "name": "python3"
  },
  "language_info": {
   "codemirror_mode": {
    "name": "ipython",
    "version": 3
   },
   "file_extension": ".py",
   "mimetype": "text/x-python",
   "name": "python",
   "nbconvert_exporter": "python",
   "pygments_lexer": "ipython3",
   "version": "3.7.4"
  }
 },
 "nbformat": 4,
 "nbformat_minor": 2
}
