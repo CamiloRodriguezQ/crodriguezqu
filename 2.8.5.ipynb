{
 "cells": [
  {
   "cell_type": "code",
   "execution_count": 3,
   "metadata": {},
   "outputs": [
    {
     "name": "stdout",
     "output_type": "stream",
     "text": [
      "n= 0 , x(1)= 0.37500000000000006\n",
      "n= 1 , x(1)= 0.3678797744124986\n",
      "n= 2 , x(1)= 0.3678794412023554\n",
      "n= 3 , x(1)= 0.3678794411714443\n",
      "n= 4 , x(1)= 0.36787944117143884\n",
      "Errores (%):  [7.12055883e-01 3.33241056e-05 3.09130499e-09 1.94289029e-13\n",
      " 3.49720253e-13]\n",
      "En comparacion con el metodo de euler, el valor desde n=0 ya es muy cercano al real.\n",
      "Para un valor de n=1, las 4 primeras cifras ya son iguales al valor real.\n"
     ]
    },
    {
     "data": {
      "image/png": "[encoded data removed]",
      "text/plain": [
       "<Figure size 432x288 with 1 Axes>"
      ]
     },
     "metadata": {
      "needs_background": "light"
     },
     "output_type": "display_data"
    }
   ],
   "source": [
    "import numpy as np               \n",
    "import matplotlib.pyplot as plt  \n",
    "\n",
    "def rk4(f,x0,t0,tN,N):\n",
    "    t= np.linspace(t0,tN,N+1)\n",
    "    h= (tN-t0)/N\n",
    "    x_4rk=np.zeros(N+1)\n",
    "    x_4rk[0]= x0                         # Condicion inicial\n",
    "\n",
    "    for n in range(N):\n",
    "        k1 = h*f( x_4rk[n]       , t[n]         )\n",
    "        k2 = h*f( x_4rk[n] + k1/2, t[n] + (h/2) ) \n",
    "        k3 = h*f( x_4rk[n] + k2/2, t[n] + (h/2) ) \n",
    "        k4 = h*f( x_4rk[n] + k3  , t[n] +  h    )\n",
    "      \n",
    "        x_4rk[n+1] = x_4rk[n] + k1/6 + k2/3 + k3/3 + k4/6\n",
    "    return t,x_4rk\n",
    "\n",
    "def fun(x_n,t_n):\n",
    "    return -x_n\n",
    "\n",
    "t0=0\n",
    "tN=1\n",
    "x0=1\n",
    "x_1=list()\n",
    "dt=list()\n",
    "\n",
    "for n in [0,1,2,3,4]:\n",
    "    h=10**-n\n",
    "    N=int((tN-t0)/h)\n",
    "    t,x=rk4(fun,x0,t0,tN,N)\n",
    "    x_1.append(x[-1])\n",
    "    dt.append(h)\n",
    "    print('n=',n,', x(1)=',x_1[n])\n",
    "    \n",
    "E=abs(x_1-np.exp(-1))\n",
    "plt.plot(dt,E,'o-')\n",
    "plt.title('h vs E')\n",
    "plt.xlabel('h')\n",
    "plt.ylabel('E')\n",
    "plt.grid()\n",
    "print('Errores (%): ',E*100)\n",
    "print('En comparacion con el metodo de euler, el valor desde n=0 ya es muy cercano al real.')\n",
    "print('Para un valor de n=1, las 4 primeras cifras ya son iguales al valor real.')"
   ]
  },
  {
   "cell_type": "code",
   "execution_count": null,
   "metadata": {},
   "outputs": [],
   "source": []
  }
 ],
 "metadata": {},
 "nbformat": 4,
 "nbformat_minor": 2
}
